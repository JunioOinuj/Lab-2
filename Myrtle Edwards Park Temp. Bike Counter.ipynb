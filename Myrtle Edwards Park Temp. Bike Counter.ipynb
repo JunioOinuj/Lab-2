{
 "cells": [
  {
   "cell_type": "markdown",
   "metadata": {},
   "source": [
    "# Myrtle Edwards Park Temporary Bike Counter\n",
    "### June Enuj\n",
    "### 10/17/19"
   ]
  },
  {
   "cell_type": "markdown",
   "metadata": {},
   "source": [
    "# Abstract"
   ]
  },
  {
   "cell_type": "markdown",
   "metadata": {},
   "source": [
    "### This lab will be focused around not only furthing the skills learned in Lab 1, but to be able to pick and choose a dataset that meets the requirements of what a good dataset is. In addition, this lab will focus more on commenting with usage of Markdown Cells, Analysis of the data and coming up with questions that build off of what is learned from the dataset."
   ]
  },
  {
   "cell_type": "markdown",
   "metadata": {},
   "source": [
    "# Data Preparation"
   ]
  },
  {
   "cell_type": "markdown",
   "metadata": {},
   "source": [
    "### For this section of coding, I am opening the data file, making a List for it (the List being myrtle_data) and I am taking a row in my myrtle_file and adding the data into my List, myrtle_data. After that, I close the file with my dataset and then I tested a row in my data to see if there is any missing data"
   ]
  },
  {
   "cell_type": "code",
   "execution_count": 47,
   "metadata": {},
   "outputs": [
    {
     "name": "stdout",
     "output_type": "stream",
     "text": [
      "05/30/2013 07:00:00 PM,118,100,18\n",
      "\n"
     ]
    }
   ],
   "source": [
    "#open the csv file\n",
    "myrtle_file = open(\"Myrtle_Edwards_Park_Temporary_Bike_Counter.csv\", \"r\");\n",
    "\n",
    "#make a empty list to store the data from dataset\n",
    "myrtle_data = [];\n",
    "\n",
    "#put all lines from the myrtle_file into a list\n",
    "for row in myrtle_file:\n",
    "    myrtle_data.append(row);\n",
    "    \n",
    "#close myrtle_file\n",
    "myrtle_file.close();\n",
    "\n",
    "print(myrtle_data[500]);\n"
   ]
  },
  {
   "cell_type": "markdown",
   "metadata": {},
   "source": [
    "### For this section of coding, I first start out with importing my data from myrtle_file, allowing me to use new functions to further analyze this dataset. Then I delete the first row, that contains my headers for each column in my dataset, in my myrtle_data, which is labelled row 0. Next, I make 2 empty lists for my 2 columns of data, one containing the data for bikes heading NW and the other for bikes heading SE. After that, I use the Split function to help split the row into four different Lists, each one representing a column of data. Finally, because there is some data missing from my dataset, I try the code given to me by Rihan and Ms. Sconyers and append it, therefore adding to it from another List, so I can work around the missing data. I enter in the number of the column that holds the data for the bikes heading NW and the ones heading SE. If that code doesn't work, then the except: pass code will tell the whole code not to run the codes with append in it."
   ]
  },
  {
   "cell_type": "code",
   "execution_count": 48,
   "metadata": {},
   "outputs": [],
   "source": [
    "\n",
    "#import data from myrtle_file\n",
    "import statistics\n",
    "\n",
    "# remove header data\n",
    "del myrtle_data[0];\n",
    "\n",
    "# make two empty lists - one for northwest bikes and one for southeast bikes data\n",
    "# make a list of just the northwest and just the southeast data\n",
    "NW_bikes = [];\n",
    "SE_bikes = [];  \n",
    "\n",
    "# loop (go through every row one by one) through the myrtle_data\n",
    "for item in range(len(myrtle_data)):\n",
    "\n",
    "    \n",
    "    # what this line is doing is splitting out each comma separated item from a row and turning it into a list \n",
    "    # After being split, the three separate strings are then stored in another list called myrtle_row\n",
    "    myrtle_row = myrtle_data[item].split(\",\")\n",
    "    \n",
    "    \n",
    "   #now that the row is split into three parts, we can pick and choose \n",
    "   # add the second and the third to specific lists for NW_bikes and SE_bikes\n",
    "\n",
    "    try: \n",
    "        NW_bikes.append(int(myrtle_row[2]))\n",
    "\n",
    "    except:\n",
    "        pass\n",
    "    \n",
    "    try:\n",
    "        SE_bikes.append(int(myrtle_row[3]))\n",
    "\n",
    "    except:\n",
    "        pass\n",
    "\n",
    "        \n"
   ]
  },
  {
   "cell_type": "markdown",
   "metadata": {},
   "source": [
    "# Data Modeling"
   ]
  },
  {
   "cell_type": "markdown",
   "metadata": {},
   "source": [
    "### For this cell block, I use the List names for NW and SE bikes in order to help find the min and max of each List. After writing the code for the min and max of bikes, I use print in order to print the words I want in front of the numbers."
   ]
  },
  {
   "cell_type": "code",
   "execution_count": 49,
   "metadata": {},
   "outputs": [
    {
     "name": "stdout",
     "output_type": "stream",
     "text": [
      "NW_bikes minimum:\n",
      "0\n",
      "SE_bikes mimimum:\n",
      "0\n",
      "NW_bikes maximum:\n",
      "301\n",
      "SE_bikes maximum:\n",
      "186\n"
     ]
    }
   ],
   "source": [
    "# use a key to come up with the minimum and maximum bikes heading towards NW or SE\n",
    "NW_bikesmin = min(NW_bikes)\n",
    "\n",
    "NW_bikesmax = max(NW_bikes)\n",
    "\n",
    "SE_bikesmax = max(SE_bikes)\n",
    "\n",
    "SE_bikesmin = min(SE_bikes)\n",
    "\n",
    "# print the minimum and maximum values for each List\n",
    "print(\"NW_bikes minimum:\")\n",
    "print(NW_bikesmin)\n",
    "print(\"SE_bikes mimimum:\")\n",
    "print(SE_bikesmin)\n",
    "print(\"NW_bikes maximum:\")\n",
    "print(NW_bikesmax)\n",
    "print(\"SE_bikes maximum:\")\n",
    "print(SE_bikesmax)\n",
    "\n"
   ]
  },
  {
   "cell_type": "markdown",
   "metadata": {},
   "source": [
    "### For these next two blocks, I use a function to help count the amount of items in my Lists, NW_bikes and SE_bikes. I then use the given code to help find the sum of all the amount of items in each List and then find the Average for both Lists. Using the print function, I can print out words that I want in front of the numbers given to me by the code that was run."
   ]
  },
  {
   "cell_type": "code",
   "execution_count": 50,
   "metadata": {},
   "outputs": [
    {
     "name": "stdout",
     "output_type": "stream",
     "text": [
      "Number of items in NW_bikes list is 5653\n",
      "Total sum of all items in NW_bikes is 143256\n",
      "Average of items in NW_bikes List is 25.34158853705997\n"
     ]
    }
   ],
   "source": [
    "# to count how many items are in the list, use the function len\n",
    "\n",
    "count = len(NW_bikes)\n",
    "print(\"Number of items in NW_bikes list is\", count)\n",
    "\n",
    "# to add up all the items in the list, use the function sum\n",
    "total = sum(NW_bikes)\n",
    "print(\"Total sum of all items in NW_bikes is\", total)\n",
    "\n",
    "# you can then use these two values to calculate the average (also called the mean)\n",
    "avg=total/count\n",
    "print(\"Average of items in NW_bikes List is\", avg)\n",
    "\n"
   ]
  },
  {
   "cell_type": "code",
   "execution_count": 51,
   "metadata": {},
   "outputs": [
    {
     "name": "stdout",
     "output_type": "stream",
     "text": [
      "Number of items in SE_bikes list is 5653\n",
      "Total sum of all items in SE_bikes list is 121535\n",
      "Average of items in SE_bikes list is 21.499203962497788\n"
     ]
    }
   ],
   "source": [
    "# to count how many items are in the list, use the function len\n",
    "someNbrs = SE_bikes\n",
    "count = len(someNbrs)\n",
    "print(\"Number of items in SE_bikes list is\", count)\n",
    "\n",
    "# to add up all the items in the list, use the function sum\n",
    "total = sum(someNbrs)\n",
    "print(\"Total sum of all items in SE_bikes list is\", total)\n",
    "\n",
    "# you can then use these two values to calculate the average (also called the mean)\n",
    "avg=total/count\n",
    "print(\"Average of items in SE_bikes list is\", avg)\n",
    "\n"
   ]
  },
  {
   "cell_type": "markdown",
   "metadata": {},
   "source": [
    "# Analysis & Conclusion"
   ]
  },
  {
   "cell_type": "markdown",
   "metadata": {},
   "source": [
    "### In conclusion, there were more bikes heading NW on Myrtle Edwards than bikes heading SE. Although both directions had a minimum of 0 bikes headed their way, bikes headed NE had a maximum of 115 more bikes more than bikes headed towards SE. Furthermore, although both lists had the same number of items in their list, NE_bikes had higher values than the ones in SE_bikes, resulting in not only a higher sum of values of all the items in the individual lists, but also a higher average. Due to these numbers, one can only wonder about and question the chosen dataset. For example, are there more people living in the direction of NE? Are the bikers headed towards NE ones who routinely bike or was there a biking event on a certain day? Do less people live in the SE? Does the weather influence how many bikers bike in either directions? Do more climate change aware people live in the NE? Why is there data missing? Would the missing data affect the minimums, maximums and averages of both lists? There are a million other questions that can be asked about this dataset and these are only the beginning."
   ]
  },
  {
   "cell_type": "markdown",
   "metadata": {},
   "source": [
    "# Acknowledgments"
   ]
  },
  {
   "cell_type": "markdown",
   "metadata": {},
   "source": [
    "### Ms. Sconyers: Helping me work around the missing data in my dataset by giving me a code to help with that, letting me copy her codes, giving me new codes, explaing those codes\n",
    "    \n",
    "### Rihan: Explaining the code that helps me find how much missing data I have, helping me write that code\n",
    "    \n",
    "### Navya: Explaining some codes and terms I didnt understand\n",
    "    "
   ]
  },
  {
   "cell_type": "code",
   "execution_count": null,
   "metadata": {},
   "outputs": [],
   "source": []
  }
 ],
 "metadata": {
  "kernelspec": {
   "display_name": "Python 3",
   "language": "python",
   "name": "python3"
  },
  "language_info": {
   "codemirror_mode": {
    "name": "ipython",
    "version": 3
   },
   "file_extension": ".py",
   "mimetype": "text/x-python",
   "name": "python",
   "nbconvert_exporter": "python",
   "pygments_lexer": "ipython3",
   "version": "3.7.3"
  }
 },
 "nbformat": 4,
 "nbformat_minor": 2
}
